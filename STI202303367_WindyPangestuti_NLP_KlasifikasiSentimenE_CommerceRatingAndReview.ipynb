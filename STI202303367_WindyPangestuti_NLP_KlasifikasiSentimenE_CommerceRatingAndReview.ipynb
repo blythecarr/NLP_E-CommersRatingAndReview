{
  "nbformat": 4,
  "nbformat_minor": 0,
  "metadata": {
    "colab": {
      "provenance": [],
      "authorship_tag": "ABX9TyOqHMFEG8GQ2+Y0Bskf6s/5",
      "include_colab_link": true
    },
    "kernelspec": {
      "name": "python3",
      "display_name": "Python 3"
    },
    "language_info": {
      "name": "python"
    }
  },
  "cells": [
    {
      "cell_type": "markdown",
      "metadata": {
        "id": "view-in-github",
        "colab_type": "text"
      },
      "source": [
        "<a href=\"https://colab.research.google.com/github/blythecarr/NLP_E-CommersRatingAndReview/blob/main/STI202303367_WindyPangestuti_NLP_KlasifikasiSentimenE_CommerceRatingAndReview.ipynb\" target=\"_parent\"><img src=\"https://colab.research.google.com/assets/colab-badge.svg\" alt=\"Open In Colab\"/></a>"
      ]
    },
    {
      "cell_type": "markdown",
      "source": [
        "1. Import library"
      ],
      "metadata": {
        "id": "p0bHw1CCSWk9"
      }
    },
    {
      "cell_type": "code",
      "execution_count": 7,
      "metadata": {
        "id": "GAT1yNnhSFob"
      },
      "outputs": [],
      "source": [
        "import pandas as pd\n",
        "import numpy as np\n",
        "from sklearn.model_selection import train_test_split\n",
        "from tensorflow.keras.preprocessing.text import Tokenizer\n",
        "from tensorflow.keras.preprocessing.sequence import pad_sequences\n",
        "from tensorflow.keras.models import Sequential\n",
        "from tensorflow.keras.layers import Embedding, LSTM, Dense, Dropout"
      ]
    },
    {
      "cell_type": "markdown",
      "source": [
        "2. Load dataset"
      ],
      "metadata": {
        "id": "xt3dNwicSpui"
      }
    },
    {
      "cell_type": "code",
      "source": [
        "df = pd.read_csv(\"/content/raw_review_googleplay.csv\")"
      ],
      "metadata": {
        "id": "AK3kuNaDSsK3"
      },
      "execution_count": 9,
      "outputs": []
    },
    {
      "cell_type": "markdown",
      "source": [
        "3. Tampilkan kolom yang tersedia"
      ],
      "metadata": {
        "id": "0ccOfatvS8dF"
      }
    },
    {
      "cell_type": "code",
      "source": [
        "print(\"Kolom dalam dataset:\", df.columns)"
      ],
      "metadata": {
        "colab": {
          "base_uri": "https://localhost:8080/"
        },
        "id": "4nE74Qv3TAl8",
        "outputId": "b7b0af04-b0de-4c9a-cfd6-eb0aac9748b7"
      },
      "execution_count": 10,
      "outputs": [
        {
          "output_type": "stream",
          "name": "stdout",
          "text": [
            "Kolom dalam dataset: Index(['reviewId', 'userName', 'userImage', 'content', 'score',\n",
            "       'thumbsUpCount', 'reviewCreatedVersion', 'at', 'replyContent',\n",
            "       'repliedAt', 'appVersion'],\n",
            "      dtype='object')\n"
          ]
        }
      ]
    },
    {
      "cell_type": "markdown",
      "source": [
        "4. Tampilkan 5 data pertama"
      ],
      "metadata": {
        "id": "5ZTA0orpTRFp"
      }
    },
    {
      "cell_type": "code",
      "source": [
        "print(df[['content', 'score']].head())"
      ],
      "metadata": {
        "colab": {
          "base_uri": "https://localhost:8080/"
        },
        "id": "i08YYW60TWHu",
        "outputId": "d9c40142-8c53-433d-a1b6-bd7ae7b8e163"
      },
      "execution_count": 11,
      "outputs": [
        {
          "output_type": "stream",
          "name": "stdout",
          "text": [
            "                                             content  score\n",
            "0                   bakalan langganan belanja disini    5.0\n",
            "1  Saya dengar ada promo pengguna baru diskon sam...    3.0\n",
            "2                                             mantap    5.0\n",
            "3                                      banyak diskon    5.0\n",
            "4  Kurang Transparan TAGIHAN TOKOPEDIA CARD, apa ...    2.0\n"
          ]
        }
      ]
    },
    {
      "cell_type": "markdown",
      "source": [
        "5. Buat label sentimen berdasarkan skor rating"
      ],
      "metadata": {
        "id": "3ql0b-mwTbJ0"
      }
    },
    {
      "cell_type": "code",
      "source": [
        "def label_sentimen(score):\n",
        "    if score >= 4:\n",
        "        return 1  # Positif\n",
        "    elif score <= 2:\n",
        "        return 0  # Negatif\n",
        "    else:\n",
        "        return None  # Netral\n",
        "\n",
        "df['label'] = df['score'].apply(label_sentimen)\n",
        "df = df.dropna(subset=['label']).copy()  # Hapus data netral\n",
        "df['label'] = df['label'].astype(int)"
      ],
      "metadata": {
        "colab": {
          "base_uri": "https://localhost:8080/"
        },
        "collapsed": true,
        "id": "679DGpKIThxS",
        "outputId": "0399061a-12b8-4850-8ec9-c1cc057abf64"
      },
      "execution_count": 12,
      "outputs": [
        {
          "output_type": "stream",
          "name": "stderr",
          "text": [
            "/tmp/ipython-input-12-3882227936.py:11: SettingWithCopyWarning: \n",
            "A value is trying to be set on a copy of a slice from a DataFrame.\n",
            "Try using .loc[row_indexer,col_indexer] = value instead\n",
            "\n",
            "See the caveats in the documentation: https://pandas.pydata.org/pandas-docs/stable/user_guide/indexing.html#returning-a-view-versus-a-copy\n",
            "  df['label'] = df['label'].astype(int)\n"
          ]
        }
      ]
    },
    {
      "cell_type": "markdown",
      "source": [
        "6. Tokenisasi teks ulasan"
      ],
      "metadata": {
        "id": "56dNV2N8TorG"
      }
    },
    {
      "cell_type": "code",
      "source": [
        "tokenizer = Tokenizer(num_words=5000, oov_token='<OOV>')\n",
        "tokenizer.fit_on_texts(df['content'])\n",
        "\n",
        "sequences = tokenizer.texts_to_sequences(df['content'])\n",
        "padded = pad_sequences(sequences, maxlen=100, padding='post')"
      ],
      "metadata": {
        "id": "wZKMH86FTtT7"
      },
      "execution_count": 13,
      "outputs": []
    },
    {
      "cell_type": "code",
      "source": [
        "print(\"Token hasil tokenisasi:\", ulasan_seq)\n"
      ],
      "metadata": {
        "colab": {
          "base_uri": "https://localhost:8080/"
        },
        "id": "mlB-Lizl0UtK",
        "outputId": "d1dc85b3-867f-4795-c028-aece41fc5fc7"
      },
      "execution_count": 36,
      "outputs": [
        {
          "output_type": "stream",
          "name": "stdout",
          "text": [
            "Token hasil tokenisasi: [[40, 34, 5, 12, 587]]\n"
          ]
        }
      ]
    },
    {
      "cell_type": "markdown",
      "source": [
        "7. Split data"
      ],
      "metadata": {
        "id": "d-WV3t6jUddT"
      }
    },
    {
      "cell_type": "code",
      "source": [
        "X_train, X_test, y_train, y_test = train_test_split(padded, df['label'], test_size=0.2, random_state=42)"
      ],
      "metadata": {
        "id": "lOGEuFsqUgfz"
      },
      "execution_count": 14,
      "outputs": []
    },
    {
      "cell_type": "markdown",
      "source": [
        "8. Bangun model LSTM"
      ],
      "metadata": {
        "id": "j16STC6tU2FG"
      }
    },
    {
      "cell_type": "code",
      "source": [
        "model = Sequential([\n",
        "    Embedding(input_dim=10000, output_dim=64, input_length=100),\n",
        "    LSTM(64, return_sequences=True),\n",
        "    Dropout(0.3),\n",
        "    LSTM(32),\n",
        "    Dense(16, activation='relu'),\n",
        "    Dropout(0.3),\n",
        "    Dense(1, activation='sigmoid')\n",
        "])"
      ],
      "metadata": {
        "id": "F3_RHc9AVCix"
      },
      "execution_count": 40,
      "outputs": []
    },
    {
      "cell_type": "code",
      "source": [
        "model.compile(\n",
        "    loss='binary_crossentropy',\n",
        "    optimizer='adam',\n",
        "    metrics=['accuracy']\n",
        ")"
      ],
      "metadata": {
        "id": "LAkUTarN1ojx"
      },
      "execution_count": 41,
      "outputs": []
    },
    {
      "cell_type": "code",
      "source": [
        "from tensorflow.keras.callbacks import EarlyStopping\n",
        "\n",
        "early_stop = EarlyStopping(\n",
        "    monitor='val_loss',\n",
        "    patience=2,\n",
        "    restore_best_weights=True\n",
        ")"
      ],
      "metadata": {
        "id": "iRWd3o9w1ukB"
      },
      "execution_count": 42,
      "outputs": []
    },
    {
      "cell_type": "markdown",
      "source": [
        "9. Training model"
      ],
      "metadata": {
        "id": "acf54KzlVKfo"
      }
    },
    {
      "cell_type": "code",
      "source": [
        "model.fit(\n",
        "    X_train, y_train,\n",
        "    epochs=15,\n",
        "    batch_size=32,\n",
        "    validation_split=0.2,\n",
        "    callbacks=[early_stop]\n",
        ")\n"
      ],
      "metadata": {
        "colab": {
          "base_uri": "https://localhost:8080/"
        },
        "id": "WtDKGEAfZCmE",
        "outputId": "a710a46d-4b10-4dbb-eaaa-3c2345627cc3"
      },
      "execution_count": 43,
      "outputs": [
        {
          "output_type": "stream",
          "name": "stdout",
          "text": [
            "Epoch 1/15\n",
            "\u001b[1m239/239\u001b[0m \u001b[32m━━━━━━━━━━━━━━━━━━━━\u001b[0m\u001b[37m\u001b[0m \u001b[1m31s\u001b[0m 108ms/step - accuracy: 0.5696 - loss: 0.6841 - val_accuracy: 0.6107 - val_loss: 0.6706\n",
            "Epoch 2/15\n",
            "\u001b[1m239/239\u001b[0m \u001b[32m━━━━━━━━━━━━━━━━━━━━\u001b[0m\u001b[37m\u001b[0m \u001b[1m40s\u001b[0m 103ms/step - accuracy: 0.5834 - loss: 0.6800 - val_accuracy: 0.6107 - val_loss: 0.6743\n",
            "Epoch 3/15\n",
            "\u001b[1m239/239\u001b[0m \u001b[32m━━━━━━━━━━━━━━━━━━━━\u001b[0m\u001b[37m\u001b[0m \u001b[1m41s\u001b[0m 102ms/step - accuracy: 0.6029 - loss: 0.6521 - val_accuracy: 0.8305 - val_loss: 0.4424\n",
            "Epoch 4/15\n",
            "\u001b[1m239/239\u001b[0m \u001b[32m━━━━━━━━━━━━━━━━━━━━\u001b[0m\u001b[37m\u001b[0m \u001b[1m41s\u001b[0m 101ms/step - accuracy: 0.8255 - loss: 0.4665 - val_accuracy: 0.8315 - val_loss: 0.4398\n",
            "Epoch 5/15\n",
            "\u001b[1m239/239\u001b[0m \u001b[32m━━━━━━━━━━━━━━━━━━━━\u001b[0m\u001b[37m\u001b[0m \u001b[1m41s\u001b[0m 101ms/step - accuracy: 0.8192 - loss: 0.4695 - val_accuracy: 0.8320 - val_loss: 0.4521\n",
            "Epoch 6/15\n",
            "\u001b[1m239/239\u001b[0m \u001b[32m━━━━━━━━━━━━━━━━━━━━\u001b[0m\u001b[37m\u001b[0m \u001b[1m42s\u001b[0m 104ms/step - accuracy: 0.8223 - loss: 0.4735 - val_accuracy: 0.8331 - val_loss: 0.4378\n",
            "Epoch 7/15\n",
            "\u001b[1m239/239\u001b[0m \u001b[32m━━━━━━━━━━━━━━━━━━━━\u001b[0m\u001b[37m\u001b[0m \u001b[1m40s\u001b[0m 101ms/step - accuracy: 0.8219 - loss: 0.4723 - val_accuracy: 0.8341 - val_loss: 0.4367\n",
            "Epoch 8/15\n",
            "\u001b[1m239/239\u001b[0m \u001b[32m━━━━━━━━━━━━━━━━━━━━\u001b[0m\u001b[37m\u001b[0m \u001b[1m41s\u001b[0m 101ms/step - accuracy: 0.8235 - loss: 0.4654 - val_accuracy: 0.8320 - val_loss: 0.4386\n",
            "Epoch 9/15\n",
            "\u001b[1m239/239\u001b[0m \u001b[32m━━━━━━━━━━━━━━━━━━━━\u001b[0m\u001b[37m\u001b[0m \u001b[1m41s\u001b[0m 101ms/step - accuracy: 0.8188 - loss: 0.4786 - val_accuracy: 0.8325 - val_loss: 0.4399\n"
          ]
        },
        {
          "output_type": "execute_result",
          "data": {
            "text/plain": [
              "<keras.src.callbacks.history.History at 0x785528467390>"
            ]
          },
          "metadata": {},
          "execution_count": 43
        }
      ]
    },
    {
      "cell_type": "code",
      "source": [],
      "metadata": {
        "id": "WL90qSI6n6UM"
      },
      "execution_count": null,
      "outputs": []
    },
    {
      "cell_type": "markdown",
      "source": [
        "10. Evaluasi model"
      ],
      "metadata": {
        "id": "IXB7N9EYiZCS"
      }
    },
    {
      "cell_type": "code",
      "source": [
        "loss, acc = model.evaluate(X_test, y_test)\n",
        "print(f'\\n✅ Akurasi Testing: {acc * 100:.2f}%')"
      ],
      "metadata": {
        "colab": {
          "base_uri": "https://localhost:8080/"
        },
        "id": "Mmkqqc3ZidCj",
        "outputId": "57fbc153-37de-4634-c664-838a07e19005"
      },
      "execution_count": 44,
      "outputs": [
        {
          "output_type": "stream",
          "name": "stdout",
          "text": [
            "\u001b[1m75/75\u001b[0m \u001b[32m━━━━━━━━━━━━━━━━━━━━\u001b[0m\u001b[37m\u001b[0m \u001b[1m2s\u001b[0m 21ms/step - accuracy: 0.8181 - loss: 0.4610\n",
            "\n",
            "✅ Akurasi Testing: 81.70%\n"
          ]
        }
      ]
    },
    {
      "cell_type": "markdown",
      "source": [
        "11. uji coba"
      ],
      "metadata": {
        "id": "zmS-nl2Jlef4"
      }
    },
    {
      "cell_type": "code",
      "source": [
        "print(\"\\n🔍 Uji Coba Prediksi Ulasan Baru\")\n",
        "\n",
        "ulasan_baru = input(\"Masukkan ulasan Anda: \")\n",
        "ulasan_bersih = bersihkan_teks(ulasan_baru)\n",
        "\n",
        "ulasan_seq = tokenizer.texts_to_sequences([ulasan_bersih])\n",
        "print(\"Token hasil tokenisasi:\", ulasan_seq)  # Debug\n",
        "\n",
        "if len(ulasan_seq[0]) == 0:\n",
        "    print(\"⚠️ Kata-kata dalam ulasan tidak dikenali oleh model.\")\n",
        "else:\n",
        "    ulasan_pad = pad_sequences(ulasan_seq, maxlen=100, padding='post')\n",
        "    prediksi = model.predict(ulasan_pad)\n",
        "    skor = prediksi[0][0]\n",
        "    print(f\"\\n📊 Skor prediksi: {skor:.4f}\")\n",
        "\n",
        "    if skor > 0.6:\n",
        "        print(\"✅ Hasil Prediksi: Positif\")\n",
        "    elif skor < 0.4:\n",
        "        print(\"❌ Hasil Prediksi: Negatif\")\n",
        "    else:\n",
        "        print(\"❔ Hasil Prediksi: Netral/Ragu-ragu\")"
      ],
      "metadata": {
        "colab": {
          "base_uri": "https://localhost:8080/"
        },
        "id": "oqzzjDL-lgpw",
        "outputId": "d374f81e-8cf9-4868-c3a0-b05c79870c1e"
      },
      "execution_count": 53,
      "outputs": [
        {
          "output_type": "stream",
          "name": "stdout",
          "text": [
            "\n",
            "🔍 Uji Coba Prediksi Ulasan Baru\n",
            "Masukkan ulasan Anda: barang bagus\n",
            "Token hasil tokenisasi: [[12, 22]]\n",
            "\u001b[1m1/1\u001b[0m \u001b[32m━━━━━━━━━━━━━━━━━━━━\u001b[0m\u001b[37m\u001b[0m \u001b[1m0s\u001b[0m 39ms/step\n",
            "\n",
            "📊 Skor prediksi: 0.8768\n",
            "✅ Hasil Prediksi: Positif\n"
          ]
        }
      ]
    }
  ]
}
